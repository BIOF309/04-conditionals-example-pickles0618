{
 "cells": [
  {
   "cell_type": "code",
   "execution_count": 1,
   "metadata": {},
   "outputs": [
    {
     "name": "stdout",
     "output_type": "stream",
     "text": [
      "The maximum value in list is 10\n",
      "The minimum value in list is -1\n"
     ]
    }
   ],
   "source": [
    "def max_val(x):\n",
    "    '''Function takes a list as an input and outputs the maximum value in list'''\n",
    "    c=x[0]\n",
    "    for i in list(range(1,len(x))):\n",
    "        if x[i]>=c:\n",
    "            c = x[i]\n",
    "        else:\n",
    "            c\n",
    "    return c\n",
    "\n",
    "def min_val(x):\n",
    "    '''Function takes a list as an input and outputs the maximum value in list'''\n",
    "    c=x[0]\n",
    "    for i in list(range(1,len(x))):\n",
    "        if x[i]<=c:\n",
    "            c = x[i]\n",
    "        else:\n",
    "            c\n",
    "    return c\n",
    "\n",
    "#Example of using the max_val and min_val functions:\n",
    "x = [1,2,3,10,-1,5]\n",
    "\n",
    "max_val = max_val(x)\n",
    "min_val = min_val(x)\n",
    "\n",
    "print('The maximum value in list is ' + str(max_val))\n",
    "print('The minimum value in list is ' + str(min_val))"
   ]
  }
 ],
 "metadata": {
  "kernelspec": {
   "display_name": "Python 3",
   "language": "python",
   "name": "python3"
  },
  "language_info": {
   "codemirror_mode": {
    "name": "ipython",
    "version": 3
   },
   "file_extension": ".py",
   "mimetype": "text/x-python",
   "name": "python",
   "nbconvert_exporter": "python",
   "pygments_lexer": "ipython3",
   "version": "3.6.1"
  }
 },
 "nbformat": 4,
 "nbformat_minor": 2
}
