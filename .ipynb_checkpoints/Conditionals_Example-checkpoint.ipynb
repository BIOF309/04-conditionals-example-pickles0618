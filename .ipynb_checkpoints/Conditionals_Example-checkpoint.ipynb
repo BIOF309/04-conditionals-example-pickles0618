{
 "cells": [
  {
   "cell_type": "code",
   "execution_count": 6,
   "metadata": {},
   "outputs": [
    {
     "name": "stdout",
     "output_type": "stream",
     "text": [
      "The maximum value in list is 5\n",
      "The minimum value in list is -1\n"
     ]
    }
   ],
   "source": [
    "def max_val(x):\n",
    "    '''Function takes a list as an input and outputs the maximum value in list'''\n",
    "    for i in x:\n",
    "        d = x[0]\n",
    "        if d<=i:\n",
    "            c=i\n",
    "    return c\n",
    "\n",
    "def min_val(x):\n",
    "    '''Function takes a list as an input and outputs the minimum value in list'''\n",
    "    for i in x:\n",
    "        d = x[0]\n",
    "        if d>=i:\n",
    "            c=i\n",
    "    return c\n",
    "\n",
    "x = [1,2,3,10,-1,5]\n",
    "\n",
    "max_val = max_val(x)\n",
    "min_val = min_val(x)\n",
    "\n",
    "print('The maximum value in list is ' + str(max_val))\n",
    "print('The minimum value in list is ' + str(min_val))"
   ]
  }
 ],
 "metadata": {
  "kernelspec": {
   "display_name": "Python 3",
   "language": "python",
   "name": "python3"
  },
  "language_info": {
   "codemirror_mode": {
    "name": "ipython",
    "version": 3
   },
   "file_extension": ".py",
   "mimetype": "text/x-python",
   "name": "python",
   "nbconvert_exporter": "python",
   "pygments_lexer": "ipython3",
   "version": "3.6.1"
  }
 },
 "nbformat": 4,
 "nbformat_minor": 2
}
